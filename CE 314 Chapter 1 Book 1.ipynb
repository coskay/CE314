{
 "metadata": {
  "name": "",
  "signature": "sha256:cd85dc794bbd2b8c0e6f2bba54cb4923813c4ce54ee5d2e5b8bc5176ac63a8f9"
 },
 "nbformat": 3,
 "nbformat_minor": 0,
 "worksheets": [
  {
   "cells": [
    {
     "cell_type": "heading",
     "level": 1,
     "metadata": {},
     "source": [
      "CE 314 Multiscale Modeling"
     ]
    },
    {
     "cell_type": "heading",
     "level": 2,
     "metadata": {},
     "source": [
      "Asymptotic and Averaging Methods - Lecture 1"
     ]
    },
    {
     "cell_type": "heading",
     "level": 3,
     "metadata": {},
     "source": [
      "Averaging Methods"
     ]
    },
    {
     "cell_type": "markdown",
     "metadata": {},
     "source": [
      "We will explore the solution of equations that contains terms that are significantly smaller than the other terms. The presence of these terms may result in the formation of a small \\emph{inner region}, where the solution changes character and behaves quite differently than in the remainder of the domain denoted as \\emph{outer region}. We can use the asymptotic method to solve such problems. This method also is the basis for the mathematical homogenization method that we will discuss in further detail."
     ]
    },
    {
     "cell_type": "heading",
     "level": 4,
     "metadata": {},
     "source": [
      "Algebraic equations"
     ]
    },
    {
     "cell_type": "code",
     "collapsed": false,
     "input": [
      "import sympy\n",
      "from sympy.solvers import solve\n",
      "from sympy import symbols, simplify, sqrt, evalf\n",
      "sympy.init_printing(use_unicode=True)"
     ],
     "language": "python",
     "metadata": {},
     "outputs": [],
     "prompt_number": 2
    },
    {
     "cell_type": "markdown",
     "metadata": {},
     "source": [
      "We consider the following algebraic equation:\n",
      "\\begin{equation}\n",
      "x^2 + \\epsilon x - 1 = 0\n",
      "\\end{equation}\n",
      "where, $\\epsilon \\ll 1$ is a small parameter. This is a quadratic equation with the following exact solution:"
     ]
    },
    {
     "cell_type": "code",
     "collapsed": false,
     "input": [
      "x,epsilon=symbols('x epsilon')\n",
      "y=x*x+epsilon*x-1"
     ],
     "language": "python",
     "metadata": {},
     "outputs": [],
     "prompt_number": 3
    },
    {
     "cell_type": "code",
     "collapsed": false,
     "input": [
      "xRoots=solve(y,x)"
     ],
     "language": "python",
     "metadata": {},
     "outputs": [],
     "prompt_number": 4
    },
    {
     "cell_type": "code",
     "collapsed": false,
     "input": [
      "xRoots"
     ],
     "language": "python",
     "metadata": {},
     "outputs": [
      {
       "latex": [
        "$$\\begin{bmatrix}- \\frac{\\epsilon}{2} - \\frac{1}{2} \\sqrt{\\epsilon^{2} + 4}, & - \\frac{\\epsilon}{2} + \\frac{1}{2} \\sqrt{\\epsilon^{2} + 4}\\end{bmatrix}$$"
       ],
       "metadata": {},
       "output_type": "pyout",
       "png": "[encoded data removed]",
       "prompt_number": 5,
       "text": [
        "\u23a1         ________           ________\u23a4\n",
        "\u23a2        \u2571  2               \u2571  2     \u23a5\n",
        "\u23a2  \u03b5   \u2572\u2571  \u03b5  + 4     \u03b5   \u2572\u2571  \u03b5  + 4 \u23a5\n",
        "\u23a2- \u2500 - \u2500\u2500\u2500\u2500\u2500\u2500\u2500\u2500\u2500\u2500\u2500, - \u2500 + \u2500\u2500\u2500\u2500\u2500\u2500\u2500\u2500\u2500\u2500\u2500\u23a5\n",
        "\u23a3  2        2         2        2     \u23a6"
       ]
      }
     ],
     "prompt_number": 5
    },
    {
     "cell_type": "markdown",
     "metadata": {},
     "source": [
      "Since the parameter, $\\epsilon$ is very small, setting $\\epsilon=0$ should provide a reasonable approximation to the solution. Solving when $\\epsilon=0$ yields:"
     ]
    },
    {
     "cell_type": "code",
     "collapsed": false,
     "input": [
      "xRoots[0].evalf(subs={epsilon: 0.0})"
     ],
     "language": "python",
     "metadata": {},
     "outputs": [
      {
       "latex": [
        "$$-1.0$$"
       ],
       "metadata": {},
       "output_type": "pyout",
       "png": "[encoded data removed]",
       "prompt_number": 6,
       "text": [
        "-1.00000000000000"
       ]
      }
     ],
     "prompt_number": 6
    },
    {
     "cell_type": "code",
     "collapsed": false,
     "input": [
      "xRoots[1].evalf(subs={epsilon: 0.0})"
     ],
     "language": "python",
     "metadata": {},
     "outputs": [
      {
       "latex": [
        "$$1.0$$"
       ],
       "metadata": {},
       "output_type": "pyout",
       "png": "[encoded data removed]",
       "prompt_number": 7,
       "text": [
        "1.00000000000000"
       ]
      }
     ],
     "prompt_number": 7
    },
    {
     "cell_type": "markdown",
     "metadata": {},
     "source": [
      "We can improve on the $\\epsilon=0$ approximation by using the technique of asymptotic expansions. It is clear that for a nonzero $\\epsilon$, the solution to the problem depends on this parameter. Consider the following asymptotic expansion of the solution:\n",
      "\\begin{equation}\n",
      "x\\left( \\epsilon \\right) = x_0 + \\epsilon x_1 +  \\epsilon^2 x_2 + \\epsilon^3 x_3 + \\ldots\n",
      "\\end{equation}"
     ]
    },
    {
     "cell_type": "code",
     "collapsed": false,
     "input": [
      "xx,x0,x1,x2,yy=symbols('xx x0 x1 x2 yy')\n",
      "xAsympt = x0+epsilon*x1+epsilon**2*x2"
     ],
     "language": "python",
     "metadata": {},
     "outputs": [],
     "prompt_number": 11
    },
    {
     "cell_type": "markdown",
     "metadata": {},
     "source": [
      "Substituting the asymptotic expansion of the solution field to the governing equation above and collecting the same order terms with respect to $\\epsilon$. \n",
      "\\begin{equation}\n",
      "f(\\epsilon)=\n",
      "\\end{equation}"
     ]
    },
    {
     "cell_type": "code",
     "collapsed": false,
     "input": [
      "yAsympt = y.subs(x,xAsympt)\n",
      "yAsymptSimp=sympy.expand(yAsympt)\n",
      "yAsymptSimpColl=sympy.collect(yAsymptSimp,epsilon)\n",
      "yAsymptSimpColl"
     ],
     "language": "python",
     "metadata": {},
     "outputs": [
      {
       "latex": [
        "$$\\epsilon^{4} x_{2}^{2} + \\epsilon^{3} \\left(2 x_{1} x_{2} + x_{2}\\right) + \\epsilon^{2} \\left(2 x_{0} x_{2} + x_{1}^{2} + x_{1}\\right) + \\epsilon \\left(2 x_{0} x_{1} + x_{0}\\right) + x_{0}^{2} - 1$$"
       ],
       "metadata": {},
       "output_type": "pyout",
       "png": "[encoded data removed]",
       "prompt_number": 13,
       "text": [
        " 4   2    3                   2 \u239b            2     \u239e                        2 \n",
        "\u03b5 \u22c5x\u2082  + \u03b5 \u22c5(2\u22c5x\u2081\u22c5x\u2082 + x\u2082) + \u03b5 \u22c5\u239d2\u22c5x\u2080\u22c5x\u2082 + x\u2081  + x\u2081\u23a0 + \u03b5\u22c5(2\u22c5x\u2080\u22c5x\u2081 + x\u2080) + x\u2080  \n",
        "\n",
        "   \n",
        "- 1"
       ]
      }
     ],
     "prompt_number": 13
    },
    {
     "cell_type": "markdown",
     "metadata": {},
     "source": [
      "Note that we collected the terms based on the orders of $\\epsilon$. Now consider the limit as $\\epsilon$ approaches zero:\n",
      "\\begin{equation}\n",
      "\\lim_{\\epsilon\\rightarrow0} f\\left( \\epsilon \\right) =\n",
      "\\end{equation}"
     ]
    },
    {
     "cell_type": "code",
     "collapsed": false,
     "input": [
      "yAsymptSimpColl.coeff(epsilon,0)"
     ],
     "language": "python",
     "metadata": {},
     "outputs": [
      {
       "latex": [
        "$$x_{0}^{2} - 1$$"
       ],
       "metadata": {},
       "output_type": "pyout",
       "png": "[encoded data removed]",
       "prompt_number": 14,
       "text": [
        "  2    \n",
        "x\u2080  - 1"
       ]
      }
     ],
     "prompt_number": 14
    },
    {
     "cell_type": "markdown",
     "metadata": {},
     "source": [
      "which can be solved to obtain the zeroth order approximation of $x$:"
     ]
    },
    {
     "cell_type": "code",
     "collapsed": false,
     "input": [
      "x0Val=sympy.solve(yAsymptSimpColl.coeff(epsilon,0),x0)"
     ],
     "language": "python",
     "metadata": {},
     "outputs": [],
     "prompt_number": 15
    },
    {
     "cell_type": "markdown",
     "metadata": {},
     "source": [
      "$x_0$="
     ]
    },
    {
     "cell_type": "code",
     "collapsed": false,
     "input": [
      "x0Val"
     ],
     "language": "python",
     "metadata": {},
     "outputs": [
      {
       "latex": [
        "$$\\begin{bmatrix}-1, & 1\\end{bmatrix}$$"
       ],
       "metadata": {},
       "output_type": "pyout",
       "png": "[encoded data removed]",
       "prompt_number": 16,
       "text": [
        "[-1, 1]"
       ]
      }
     ],
     "prompt_number": 16
    },
    {
     "cell_type": "markdown",
     "metadata": {},
     "source": [
      "Premultiplying $f(\\epsilon)$ by $\\epsilon^{-1}$ and taking the limit as $\\epsilon$ approaches zero:\n",
      "\\begin{equation}\n",
      "\\lim_{\\epsilon\\rightarrow0} \\frac{f\\left( \\epsilon \\right)}{\\epsilon} =\n",
      "\\end{equation}"
     ]
    },
    {
     "cell_type": "code",
     "collapsed": false,
     "input": [
      "yAsymptSimpColl.coeff(epsilon,1)"
     ],
     "language": "python",
     "metadata": {},
     "outputs": [
      {
       "latex": [
        "$$2 x_{0} x_{1} + x_{0}$$"
       ],
       "metadata": {},
       "output_type": "pyout",
       "png": "[encoded data removed]",
       "prompt_number": 17,
       "text": [
        "2\u22c5x\u2080\u22c5x\u2081 + x\u2080"
       ]
      }
     ],
     "prompt_number": 17
    },
    {
     "cell_type": "code",
     "collapsed": false,
     "input": [
      "x1Eq=list()\n",
      "x1Eq.append(yAsymptSimpColl.coeff(epsilon,1).subs(x0,x0Val[0]))\n",
      "x1Eq.append(yAsymptSimpColl.coeff(epsilon,1).subs(x0,x0Val[1]))"
     ],
     "language": "python",
     "metadata": {},
     "outputs": [],
     "prompt_number": 18
    },
    {
     "cell_type": "code",
     "collapsed": false,
     "input": [
      "x1Eq"
     ],
     "language": "python",
     "metadata": {},
     "outputs": [
      {
       "latex": [
        "$$\\begin{bmatrix}- 2 x_{1} - 1, & 2 x_{1} + 1\\end{bmatrix}$$"
       ],
       "metadata": {},
       "output_type": "pyout",
       "png": "[encoded data removed]",
       "prompt_number": 19,
       "text": [
        "[-2\u22c5x\u2081 - 1, 2\u22c5x\u2081 + 1]"
       ]
      }
     ],
     "prompt_number": 19
    },
    {
     "cell_type": "code",
     "collapsed": false,
     "input": [
      "x1Val=list()\n",
      "x1Val.append(sympy.solve(x1Eq[0],x1)[0])\n",
      "x1Val.append(sympy.solve(x1Eq[1],x1)[0])"
     ],
     "language": "python",
     "metadata": {},
     "outputs": [],
     "prompt_number": 57
    },
    {
     "cell_type": "markdown",
     "metadata": {},
     "source": [
      "$x_1=$"
     ]
    },
    {
     "cell_type": "code",
     "collapsed": false,
     "input": [
      "x1Val"
     ],
     "language": "python",
     "metadata": {},
     "outputs": [
      {
       "latex": [
        "$$\\begin{bmatrix}- \\frac{1}{2}, & - \\frac{1}{2}\\end{bmatrix}$$"
       ],
       "metadata": {},
       "output_type": "pyout",
       "png": "[encoded data removed]",
       "prompt_number": 58,
       "text": [
        "[-1/2, -1/2]"
       ]
      }
     ],
     "prompt_number": 58
    },
    {
     "cell_type": "markdown",
     "metadata": {},
     "source": [
      "We follow the same procedure. Premultiplying $f(\\epsilon)$ by $\\epsilon^{-2}$ and taking the limit as $\\epsilon$ approaches zero:\n",
      "\\begin{equation}\n",
      "\\lim_{\\epsilon\\rightarrow0} \\frac{f\\left( \\epsilon \\right)}{\\epsilon^2} =\n",
      "\\end{equation}"
     ]
    },
    {
     "cell_type": "code",
     "collapsed": false,
     "input": [
      "yAsymptSimpColl.coeff(epsilon,2)"
     ],
     "language": "python",
     "metadata": {},
     "outputs": [
      {
       "latex": [
        "$$2 x_{0} x_{2} + x_{1}^{2} + x_{1}$$"
       ],
       "metadata": {},
       "output_type": "pyout",
       "png": "[encoded data removed]",
       "prompt_number": 92,
       "text": [
        "            2     \n",
        "2\u22c5x\u2080\u22c5x\u2082 + x\u2081  + x\u2081"
       ]
      }
     ],
     "prompt_number": 92
    },
    {
     "cell_type": "code",
     "collapsed": false,
     "input": [
      "x2Eq=list()\n",
      "x2Eq.append(yAsymptSimpColl.coeff(epsilon,2).subs(x0,x0Val[0]).subs(x1,x1Val[0]))\n",
      "x2Eq.append(yAsymptSimpColl.coeff(epsilon,2).subs(x0,x0Val[1]).subs(x1,x1Val[0]))\n",
      "#x2Eq2=yAsymptSimpColl.coeff(epsilon,2).subs(x0,x0Val[1]).subs(x1,x1Val[1])\n",
      "x2Eq"
     ],
     "language": "python",
     "metadata": {},
     "outputs": [
      {
       "latex": [
        "$$\\begin{bmatrix}- 2 x_{2} - \\frac{1}{4}, & 2 x_{2} - \\frac{1}{4}\\end{bmatrix}$$"
       ],
       "metadata": {},
       "output_type": "pyout",
       "png": "[encoded data removed]",
       "prompt_number": 59,
       "text": [
        "[-2\u22c5x\u2082 - 1/4, 2\u22c5x\u2082 - 1/4]"
       ]
      }
     ],
     "prompt_number": 59
    },
    {
     "cell_type": "code",
     "collapsed": false,
     "input": [
      "x2Val=list()\n",
      "x2Val.append(sympy.solve(x2Eq[0],x2)[0])\n",
      "x2Val.append(sympy.solve(x2Eq[1],x2)[0])"
     ],
     "language": "python",
     "metadata": {},
     "outputs": [],
     "prompt_number": 60
    },
    {
     "cell_type": "markdown",
     "metadata": {},
     "source": [
      "$x_2=$"
     ]
    },
    {
     "cell_type": "code",
     "collapsed": false,
     "input": [
      "x2Val"
     ],
     "language": "python",
     "metadata": {},
     "outputs": [
      {
       "latex": [
        "$$\\begin{bmatrix}- \\frac{1}{8}, & \\frac{1}{8}\\end{bmatrix}$$"
       ],
       "metadata": {},
       "output_type": "pyout",
       "png": "[encoded data removed]",
       "prompt_number": 61,
       "text": [
        "[-1/8, 1/8]"
       ]
      }
     ],
     "prompt_number": 61
    },
    {
     "cell_type": "markdown",
     "metadata": {},
     "source": [
      "We therefore get the following expression as the approximation to the solution of the algebraic equation:\n",
      "\\begin{equation}\n",
      "x(\\epsilon) = \\mp 1 - \\frac{1}{2}\\epsilon \\mp \\frac{1}{8}\\epsilon^2+\\ldots\n",
      "\\end{equation}\n",
      "We note that this is completely consistent with the Taylor expansion of the exact solution about $\\epsilon=0$, which yields:\n",
      "\\begin{equation}\n",
      "x\\left( \\epsilon \\right) = \\pm 1 - \\frac{1}{2} \\epsilon \\pm \\frac{1}{8} \\epsilon^2 \\mp\\frac{1}{128} \\epsilon^4 + O\\left( \\epsilon^6 \\right)\n",
      "\\end{equation}\n",
      "\n",
      "In what follows, we plot the asymptotic approximation and the exact solution as comparison:"
     ]
    },
    {
     "cell_type": "code",
     "collapsed": false,
     "input": [
      "xAsymptSoln = list()\n",
      "xAsymptSoln.append(xAsympt.subs(x0,x0Val[0]).subs(x1,x1Val[0]).subs(x2,x2Val[0]))\n",
      "xAsymptSoln.append(xAsympt.subs(x0,x0Val[1]).subs(x1,x1Val[1]).subs(x2,x2Val[1]))\n",
      "xAsymptSoln"
     ],
     "language": "python",
     "metadata": {},
     "outputs": [
      {
       "latex": [
        "$$\\begin{bmatrix}- \\frac{\\epsilon^{2}}{8} - \\frac{\\epsilon}{2} - 1, & \\frac{\\epsilon^{2}}{8} - \\frac{\\epsilon}{2} + 1\\end{bmatrix}$$"
       ],
       "metadata": {},
       "output_type": "pyout",
       "png": "[encoded data removed]",
       "prompt_number": 67,
       "text": [
        "\u23a1   2           2        \u23a4\n",
        "\u23a2  \u03b5    \u03b5      \u03b5    \u03b5    \u23a5\n",
        "\u23a2- \u2500\u2500 - \u2500 - 1, \u2500\u2500 - \u2500 + 1\u23a5\n",
        "\u23a3  8    2      8    2    \u23a6"
       ]
      }
     ],
     "prompt_number": 67
    },
    {
     "cell_type": "code",
     "collapsed": false,
     "input": [
      "%pylab inline\n",
      "import matplotlib.pyplot as plt"
     ],
     "language": "python",
     "metadata": {},
     "outputs": [
      {
       "output_type": "stream",
       "stream": "stdout",
       "text": [
        "Populating the interactive namespace from numpy and matplotlib\n"
       ]
      }
     ],
     "prompt_number": 86
    },
    {
     "cell_type": "code",
     "collapsed": false,
     "input": [
      "zz1=list()\n",
      "zz2=list()\n",
      "zz3=list()\n",
      "zz4=list()\n",
      "eeList = list()\n",
      "ee = 0.\n",
      "for iCtr in range(0, 11):\n",
      "    zz1.append(xRoots[0].evalf(subs={epsilon: ee}))\n",
      "    zz2.append(xRoots[1].evalf(subs={epsilon: ee}))\n",
      "    zz3.append(xAsymptSoln[0].evalf(subs={epsilon: ee}))\n",
      "    zz4.append(xAsymptSoln[1].evalf(subs={epsilon: ee}))\n",
      "    eeList.append(ee)\n",
      "    ee += 0.1 "
     ],
     "language": "python",
     "metadata": {},
     "outputs": [],
     "prompt_number": 87
    },
    {
     "cell_type": "code",
     "collapsed": false,
     "input": [
      "figure()\n",
      "plot(eeList, zz3, 'r')\n",
      "plot(eeList, zz1, 'g')\n",
      "plot(eeList, zz4, 'b')\n",
      "plot(eeList, zz2, 'm')\n",
      "xlabel('epsilon')\n",
      "ylabel('x')\n",
      "title('Comparison of exact and asymptotic solutions')\n",
      "show()"
     ],
     "language": "python",
     "metadata": {},
     "outputs": [
      {
       "metadata": {},
       "output_type": "display_data",
       "png": "[encoded data removed]",
       "text": [
        "<matplotlib.figure.Figure at 0x10f171f10>"
       ]
      }
     ],
     "prompt_number": 90
    }
   ],
   "metadata": {}
  }
 ]
}